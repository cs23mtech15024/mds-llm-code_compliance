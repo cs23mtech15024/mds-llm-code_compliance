{
 "cells": [
  {
   "cell_type": "code",
   "execution_count": 2,
   "id": "d678aa86",
   "metadata": {},
   "outputs": [],
   "source": [
    "\n",
    "import os\n",
    "from pathlib import Path\n",
    "\n",
    "# def create_folders_and_files(base_path):\n",
    "#     \"\"\"\n",
    "#     Creates folders named 001 to 100 within `base_path`.\n",
    "#     Within each folder, creates compliant.cpp and noncompliant.cpp only if they don't already exist.\n",
    "#     \"\"\"\n",
    "#     for i in range(1, 101):\n",
    "#         folder_name = f\"{i:03d}\"\n",
    "#         folder_path = Path(base_path) / folder_name\n",
    "#         # Create the folder only if not present\n",
    "#         if not folder_path.exists():\n",
    "#             folder_path.mkdir(parents=True)\n",
    "#         # Create compliant.cpp only if not present\n",
    "#         compliant_file = folder_path / \"compliant.cpp\"\n",
    "#         if not compliant_file.exists():\n",
    "#             compliant_file.touch()\n",
    "#         # Create noncompliant.cpp only if not present\n",
    "#         noncompliant_file = folder_path / \"noncompliant.cpp\"\n",
    "#         if not noncompliant_file.exists():\n",
    "#             noncompliant_file.touch()\n"
   ]
  },
  {
   "cell_type": "code",
   "execution_count": null,
   "id": "89672283",
   "metadata": {},
   "outputs": [],
   "source": [
    "# Pairs\n",
    "# create_folders_and_files('/Users/sumandey/Desktop/IITH/Classes/Sem 5/mds-llm-code_compliance/Rules/1. Hexadecimal constants will be represented using all uppercase letters./Pairs')"
   ]
  },
  {
   "cell_type": "code",
   "execution_count": null,
   "id": "22f742f6",
   "metadata": {},
   "outputs": [],
   "source": [
    "# Seeds\n",
    "# create_folders_and_files('/Users/sumandey/Desktop/IITH/Classes/Sem 5/mds-llm-code_compliance/Rules/1. Hexadecimal constants will be represented using all uppercase letters./Seeds')"
   ]
  },
  {
   "cell_type": "code",
   "execution_count": 1,
   "id": "f9a3250a",
   "metadata": {},
   "outputs": [],
   "source": [
    "BASE_DIR = \"/Users/sumandey/Desktop/IITH/Classes/Sem 5/mds-llm-code_compliance/Rules/1. Literal suffices shall be upper case/Pairs\"  # Base directory name\n",
    "START = 1\n",
    "END = 100\n",
    "CPP_FILES = [\"seedC.cpp\", \"seedNC.cpp\", \"mainC.cpp\", \"mainNC.cpp\"]"
   ]
  },
  {
   "cell_type": "code",
   "execution_count": 3,
   "id": "122a4f9d",
   "metadata": {},
   "outputs": [],
   "source": [
    "def create_cpp_structure(base_dir, start, end, cpp_files):\n",
    "    \"\"\"\n",
    "    Create folder structure with .cpp files\n",
    "    \n",
    "    Args:\n",
    "        base_dir: Base directory name\n",
    "        start: Starting folder number\n",
    "        end: Ending folder number\n",
    "        cpp_files: List of .cpp filenames to create\n",
    "    \"\"\"\n",
    "    # Create base directory if it doesn't exist\n",
    "    base_path = Path(base_dir)\n",
    "    base_path.mkdir(exist_ok=True)\n",
    "    \n",
    "    # Create numbered folders\n",
    "    for i in range(start, end + 1):\n",
    "        # Format folder name with leading zeros (001, 002, etc.)\n",
    "        folder_name = f\"{i:03d}\"\n",
    "        folder_path = base_path / folder_name\n",
    "        \n",
    "        # Create the folder\n",
    "        folder_path.mkdir(exist_ok=True)\n",
    "        \n",
    "        # Create each .cpp file in the folder\n",
    "        for cpp_file in cpp_files:\n",
    "            file_path = folder_path / cpp_file\n",
    "            \n",
    "            # Create empty file or with basic template\n",
    "            with open(file_path, 'w') as f:\n",
    "                # Optional: Add a basic C++ template\n",
    "                f.write(f\"// {cpp_file} in folder {folder_name}\\n\")\n",
    "                f.write(\"#include <iostream>\\n\\n\")\n",
    "                f.write(\"int main() {\\n\")\n",
    "                f.write(\"    // TODO: Implement\\n\")\n",
    "                f.write(\"    return 0;\\n\")\n",
    "                f.write(\"}\\n\")\n",
    "        \n",
    "        # Print progress every 10 folders\n",
    "        if i % 10 == 0:\n",
    "            print(f\"Created folder {folder_name} with {len(cpp_files)} files\")\n",
    "    \n",
    "    print(f\"\\n✓ Successfully created {end - start + 1} folders\")\n",
    "    print(f\"✓ Each folder contains {len(cpp_files)} .cpp files\")"
   ]
  },
  {
   "cell_type": "code",
   "execution_count": 4,
   "id": "e4d4d818",
   "metadata": {},
   "outputs": [
    {
     "name": "stdout",
     "output_type": "stream",
     "text": [
      "Created folder 010 with 4 files\n",
      "Created folder 020 with 4 files\n",
      "Created folder 030 with 4 files\n",
      "Created folder 040 with 4 files\n",
      "Created folder 050 with 4 files\n",
      "Created folder 060 with 4 files\n",
      "Created folder 070 with 4 files\n",
      "Created folder 080 with 4 files\n",
      "Created folder 090 with 4 files\n",
      "Created folder 100 with 4 files\n",
      "\n",
      "✓ Successfully created 100 folders\n",
      "✓ Each folder contains 4 .cpp files\n"
     ]
    }
   ],
   "source": [
    "create_cpp_structure(BASE_DIR, START, END, CPP_FILES)"
   ]
  },
  {
   "cell_type": "code",
   "execution_count": null,
   "id": "199c313d",
   "metadata": {},
   "outputs": [],
   "source": []
  }
 ],
 "metadata": {
  "kernelspec": {
   "display_name": "graph_rag",
   "language": "python",
   "name": "python3"
  },
  "language_info": {
   "codemirror_mode": {
    "name": "ipython",
    "version": 3
   },
   "file_extension": ".py",
   "mimetype": "text/x-python",
   "name": "python",
   "nbconvert_exporter": "python",
   "pygments_lexer": "ipython3",
   "version": "3.11.9"
  }
 },
 "nbformat": 4,
 "nbformat_minor": 5
}
